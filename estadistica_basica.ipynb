{
  "nbformat": 4,
  "nbformat_minor": 0,
  "metadata": {
    "colab": {
      "name": "estadistica_basica.ipynb",
      "version": "0.3.2",
      "provenance": [],
      "collapsed_sections": [],
      "toc_visible": true
    },
    "kernelspec": {
      "name": "python3",
      "display_name": "Python 3"
    }
  },
  "cells": [
    {
      "metadata": {
        "id": "N7CQ8x0aFytp",
        "colab_type": "text"
      },
      "cell_type": "markdown",
      "source": [
        "En primer lugar cargamos el archivo y hacemos una estadística básica de las variables.\n",
        "\n",
        "Este script se ha generado en Colaboratory, puede modificarse para correr directamente como Jupyter notebook"
      ]
    },
    {
      "metadata": {
        "id": "9rAnJTb6F7yj",
        "colab_type": "code",
        "colab": {}
      },
      "cell_type": "code",
      "source": [
        "from google.colab import files\n",
        "#uploaded = files.upload()  # escoger el archivo que queremos utilizar, en este caso ejemploMI.csv que tiene los datos\n",
        "import pandas as pd\n",
        "for fn in uploaded.keys():\n",
        "  df = pd.read_csv('ejemploMI.csv')"
      ],
      "execution_count": 0,
      "outputs": []
    },
    {
      "metadata": {
        "id": "EYUU5SriJ96b",
        "colab_type": "code",
        "colab": {
          "base_uri": "https://localhost:8080/",
          "height": 204
        },
        "outputId": "327620e7-8961-4ca4-eb3d-2fa1d64a3368"
      },
      "cell_type": "code",
      "source": [
        "df.tail()  # verificamos que se ha cargado correctamente"
      ],
      "execution_count": 8,
      "outputs": [
        {
          "output_type": "execute_result",
          "data": {
            "text/html": [
              "<div>\n",
              "<style scoped>\n",
              "    .dataframe tbody tr th:only-of-type {\n",
              "        vertical-align: middle;\n",
              "    }\n",
              "\n",
              "    .dataframe tbody tr th {\n",
              "        vertical-align: top;\n",
              "    }\n",
              "\n",
              "    .dataframe thead th {\n",
              "        text-align: right;\n",
              "    }\n",
              "</style>\n",
              "<table border=\"1\" class=\"dataframe\">\n",
              "  <thead>\n",
              "    <tr style=\"text-align: right;\">\n",
              "      <th></th>\n",
              "      <th>Unnamed: 0</th>\n",
              "      <th>X</th>\n",
              "      <th>exitus</th>\n",
              "      <th>apache2</th>\n",
              "      <th>tipopaciente</th>\n",
              "      <th>sexopac</th>\n",
              "      <th>edad</th>\n",
              "      <th>sofa</th>\n",
              "      <th>lactato</th>\n",
              "    </tr>\n",
              "  </thead>\n",
              "  <tbody>\n",
              "    <tr>\n",
              "      <th>1360</th>\n",
              "      <td>1364</td>\n",
              "      <td>1364</td>\n",
              "      <td>0</td>\n",
              "      <td>24</td>\n",
              "      <td>QU</td>\n",
              "      <td>Hombre</td>\n",
              "      <td>68</td>\n",
              "      <td>5</td>\n",
              "      <td>1.9</td>\n",
              "    </tr>\n",
              "    <tr>\n",
              "      <th>1361</th>\n",
              "      <td>1365</td>\n",
              "      <td>1365</td>\n",
              "      <td>0</td>\n",
              "      <td>18</td>\n",
              "      <td>QP</td>\n",
              "      <td>Hombre</td>\n",
              "      <td>55</td>\n",
              "      <td>5</td>\n",
              "      <td>1.5</td>\n",
              "    </tr>\n",
              "    <tr>\n",
              "      <th>1362</th>\n",
              "      <td>1366</td>\n",
              "      <td>1366</td>\n",
              "      <td>0</td>\n",
              "      <td>13</td>\n",
              "      <td>QP</td>\n",
              "      <td>Hombre</td>\n",
              "      <td>68</td>\n",
              "      <td>2</td>\n",
              "      <td>4.9</td>\n",
              "    </tr>\n",
              "    <tr>\n",
              "      <th>1363</th>\n",
              "      <td>1367</td>\n",
              "      <td>1367</td>\n",
              "      <td>0</td>\n",
              "      <td>10</td>\n",
              "      <td>QU</td>\n",
              "      <td>Hombre</td>\n",
              "      <td>33</td>\n",
              "      <td>1</td>\n",
              "      <td>1.1</td>\n",
              "    </tr>\n",
              "    <tr>\n",
              "      <th>1364</th>\n",
              "      <td>1368</td>\n",
              "      <td>1368</td>\n",
              "      <td>0</td>\n",
              "      <td>8</td>\n",
              "      <td>QP</td>\n",
              "      <td>Hombre</td>\n",
              "      <td>64</td>\n",
              "      <td>4</td>\n",
              "      <td>4.8</td>\n",
              "    </tr>\n",
              "  </tbody>\n",
              "</table>\n",
              "</div>"
            ],
            "text/plain": [
              "      Unnamed: 0     X  exitus  apache2 tipopaciente sexopac  edad  sofa  \\\n",
              "1360        1364  1364       0       24           QU  Hombre    68     5   \n",
              "1361        1365  1365       0       18           QP  Hombre    55     5   \n",
              "1362        1366  1366       0       13           QP  Hombre    68     2   \n",
              "1363        1367  1367       0       10           QU  Hombre    33     1   \n",
              "1364        1368  1368       0        8           QP  Hombre    64     4   \n",
              "\n",
              "      lactato  \n",
              "1360      1.9  \n",
              "1361      1.5  \n",
              "1362      4.9  \n",
              "1363      1.1  \n",
              "1364      4.8  "
            ]
          },
          "metadata": {
            "tags": []
          },
          "execution_count": 8
        }
      ]
    },
    {
      "metadata": {
        "id": "7meBVb9ZK6Jy",
        "colab_type": "text"
      },
      "cell_type": "markdown",
      "source": [
        "Hacemos estadistica basica de las variables"
      ]
    },
    {
      "metadata": {
        "id": "F8rJdB-cK-DO",
        "colab_type": "code",
        "colab": {
          "base_uri": "https://localhost:8080/",
          "height": 297
        },
        "outputId": "c9cec081-fc88-41e6-be02-19d15fc59c38"
      },
      "cell_type": "code",
      "source": [
        "df.describe()"
      ],
      "execution_count": 9,
      "outputs": [
        {
          "output_type": "execute_result",
          "data": {
            "text/html": [
              "<div>\n",
              "<style scoped>\n",
              "    .dataframe tbody tr th:only-of-type {\n",
              "        vertical-align: middle;\n",
              "    }\n",
              "\n",
              "    .dataframe tbody tr th {\n",
              "        vertical-align: top;\n",
              "    }\n",
              "\n",
              "    .dataframe thead th {\n",
              "        text-align: right;\n",
              "    }\n",
              "</style>\n",
              "<table border=\"1\" class=\"dataframe\">\n",
              "  <thead>\n",
              "    <tr style=\"text-align: right;\">\n",
              "      <th></th>\n",
              "      <th>Unnamed: 0</th>\n",
              "      <th>X</th>\n",
              "      <th>exitus</th>\n",
              "      <th>apache2</th>\n",
              "      <th>edad</th>\n",
              "      <th>sofa</th>\n",
              "      <th>lactato</th>\n",
              "    </tr>\n",
              "  </thead>\n",
              "  <tbody>\n",
              "    <tr>\n",
              "      <th>count</th>\n",
              "      <td>1365.000000</td>\n",
              "      <td>1365.000000</td>\n",
              "      <td>1365.000000</td>\n",
              "      <td>1365.000000</td>\n",
              "      <td>1365.000000</td>\n",
              "      <td>1365.000000</td>\n",
              "      <td>1365.000000</td>\n",
              "    </tr>\n",
              "    <tr>\n",
              "      <th>mean</th>\n",
              "      <td>684.740659</td>\n",
              "      <td>684.740659</td>\n",
              "      <td>0.063736</td>\n",
              "      <td>16.082051</td>\n",
              "      <td>63.414652</td>\n",
              "      <td>3.802930</td>\n",
              "      <td>2.160293</td>\n",
              "    </tr>\n",
              "    <tr>\n",
              "      <th>std</th>\n",
              "      <td>394.620098</td>\n",
              "      <td>394.620098</td>\n",
              "      <td>0.244372</td>\n",
              "      <td>7.997012</td>\n",
              "      <td>15.952075</td>\n",
              "      <td>3.000976</td>\n",
              "      <td>2.197511</td>\n",
              "    </tr>\n",
              "    <tr>\n",
              "      <th>min</th>\n",
              "      <td>1.000000</td>\n",
              "      <td>1.000000</td>\n",
              "      <td>0.000000</td>\n",
              "      <td>1.000000</td>\n",
              "      <td>12.000000</td>\n",
              "      <td>0.000000</td>\n",
              "      <td>0.400000</td>\n",
              "    </tr>\n",
              "    <tr>\n",
              "      <th>25%</th>\n",
              "      <td>344.000000</td>\n",
              "      <td>344.000000</td>\n",
              "      <td>0.000000</td>\n",
              "      <td>10.000000</td>\n",
              "      <td>54.000000</td>\n",
              "      <td>1.000000</td>\n",
              "      <td>1.000000</td>\n",
              "    </tr>\n",
              "    <tr>\n",
              "      <th>50%</th>\n",
              "      <td>685.000000</td>\n",
              "      <td>685.000000</td>\n",
              "      <td>0.000000</td>\n",
              "      <td>14.000000</td>\n",
              "      <td>67.000000</td>\n",
              "      <td>3.000000</td>\n",
              "      <td>1.500000</td>\n",
              "    </tr>\n",
              "    <tr>\n",
              "      <th>75%</th>\n",
              "      <td>1026.000000</td>\n",
              "      <td>1026.000000</td>\n",
              "      <td>0.000000</td>\n",
              "      <td>20.000000</td>\n",
              "      <td>75.000000</td>\n",
              "      <td>6.000000</td>\n",
              "      <td>2.500000</td>\n",
              "    </tr>\n",
              "    <tr>\n",
              "      <th>max</th>\n",
              "      <td>1368.000000</td>\n",
              "      <td>1368.000000</td>\n",
              "      <td>1.000000</td>\n",
              "      <td>50.000000</td>\n",
              "      <td>102.000000</td>\n",
              "      <td>16.000000</td>\n",
              "      <td>26.400000</td>\n",
              "    </tr>\n",
              "  </tbody>\n",
              "</table>\n",
              "</div>"
            ],
            "text/plain": [
              "        Unnamed: 0            X       exitus      apache2         edad  \\\n",
              "count  1365.000000  1365.000000  1365.000000  1365.000000  1365.000000   \n",
              "mean    684.740659   684.740659     0.063736    16.082051    63.414652   \n",
              "std     394.620098   394.620098     0.244372     7.997012    15.952075   \n",
              "min       1.000000     1.000000     0.000000     1.000000    12.000000   \n",
              "25%     344.000000   344.000000     0.000000    10.000000    54.000000   \n",
              "50%     685.000000   685.000000     0.000000    14.000000    67.000000   \n",
              "75%    1026.000000  1026.000000     0.000000    20.000000    75.000000   \n",
              "max    1368.000000  1368.000000     1.000000    50.000000   102.000000   \n",
              "\n",
              "              sofa      lactato  \n",
              "count  1365.000000  1365.000000  \n",
              "mean      3.802930     2.160293  \n",
              "std       3.000976     2.197511  \n",
              "min       0.000000     0.400000  \n",
              "25%       1.000000     1.000000  \n",
              "50%       3.000000     1.500000  \n",
              "75%       6.000000     2.500000  \n",
              "max      16.000000    26.400000  "
            ]
          },
          "metadata": {
            "tags": []
          },
          "execution_count": 9
        }
      ]
    },
    {
      "metadata": {
        "id": "PNiwFQW6L24Z",
        "colab_type": "code",
        "colab": {
          "base_uri": "https://localhost:8080/",
          "height": 142
        },
        "outputId": "0f8566eb-c866-4792-8445-6653eb90069b"
      },
      "cell_type": "code",
      "source": [
        "pd.crosstab(index=df[\"sexopac\"],columns=\"pacientes\")      "
      ],
      "execution_count": 10,
      "outputs": [
        {
          "output_type": "execute_result",
          "data": {
            "text/html": [
              "<div>\n",
              "<style scoped>\n",
              "    .dataframe tbody tr th:only-of-type {\n",
              "        vertical-align: middle;\n",
              "    }\n",
              "\n",
              "    .dataframe tbody tr th {\n",
              "        vertical-align: top;\n",
              "    }\n",
              "\n",
              "    .dataframe thead th {\n",
              "        text-align: right;\n",
              "    }\n",
              "</style>\n",
              "<table border=\"1\" class=\"dataframe\">\n",
              "  <thead>\n",
              "    <tr style=\"text-align: right;\">\n",
              "      <th>col_0</th>\n",
              "      <th>pacientes</th>\n",
              "    </tr>\n",
              "    <tr>\n",
              "      <th>sexopac</th>\n",
              "      <th></th>\n",
              "    </tr>\n",
              "  </thead>\n",
              "  <tbody>\n",
              "    <tr>\n",
              "      <th>Hombre</th>\n",
              "      <td>851</td>\n",
              "    </tr>\n",
              "    <tr>\n",
              "      <th>Mujer</th>\n",
              "      <td>514</td>\n",
              "    </tr>\n",
              "  </tbody>\n",
              "</table>\n",
              "</div>"
            ],
            "text/plain": [
              "col_0    pacientes\n",
              "sexopac           \n",
              "Hombre         851\n",
              "Mujer          514"
            ]
          },
          "metadata": {
            "tags": []
          },
          "execution_count": 10
        }
      ]
    },
    {
      "metadata": {
        "id": "WvSM7zLXM5D6",
        "colab_type": "code",
        "colab": {
          "base_uri": "https://localhost:8080/",
          "height": 142
        },
        "outputId": "2422bcae-133a-4b8a-8a40-bded76b1e4ae"
      },
      "cell_type": "code",
      "source": [
        "pd.crosstab(index=df[\"exitus\"],columns=\"pacientes\") "
      ],
      "execution_count": 11,
      "outputs": [
        {
          "output_type": "execute_result",
          "data": {
            "text/html": [
              "<div>\n",
              "<style scoped>\n",
              "    .dataframe tbody tr th:only-of-type {\n",
              "        vertical-align: middle;\n",
              "    }\n",
              "\n",
              "    .dataframe tbody tr th {\n",
              "        vertical-align: top;\n",
              "    }\n",
              "\n",
              "    .dataframe thead th {\n",
              "        text-align: right;\n",
              "    }\n",
              "</style>\n",
              "<table border=\"1\" class=\"dataframe\">\n",
              "  <thead>\n",
              "    <tr style=\"text-align: right;\">\n",
              "      <th>col_0</th>\n",
              "      <th>pacientes</th>\n",
              "    </tr>\n",
              "    <tr>\n",
              "      <th>exitus</th>\n",
              "      <th></th>\n",
              "    </tr>\n",
              "  </thead>\n",
              "  <tbody>\n",
              "    <tr>\n",
              "      <th>0</th>\n",
              "      <td>1278</td>\n",
              "    </tr>\n",
              "    <tr>\n",
              "      <th>1</th>\n",
              "      <td>87</td>\n",
              "    </tr>\n",
              "  </tbody>\n",
              "</table>\n",
              "</div>"
            ],
            "text/plain": [
              "col_0   pacientes\n",
              "exitus           \n",
              "0            1278\n",
              "1              87"
            ]
          },
          "metadata": {
            "tags": []
          },
          "execution_count": 11
        }
      ]
    },
    {
      "metadata": {
        "id": "-_QsDVCsNBMM",
        "colab_type": "code",
        "colab": {
          "base_uri": "https://localhost:8080/",
          "height": 204
        },
        "outputId": "9ecdf784-cc59-4407-f604-1dfa0e1d63b3"
      },
      "cell_type": "code",
      "source": [
        "pd.crosstab(index=df[\"tipopaciente\"],columns=\"pacientes\")     # medico, politrauma,quirurg programado y quirurg urgente"
      ],
      "execution_count": 12,
      "outputs": [
        {
          "output_type": "execute_result",
          "data": {
            "text/html": [
              "<div>\n",
              "<style scoped>\n",
              "    .dataframe tbody tr th:only-of-type {\n",
              "        vertical-align: middle;\n",
              "    }\n",
              "\n",
              "    .dataframe tbody tr th {\n",
              "        vertical-align: top;\n",
              "    }\n",
              "\n",
              "    .dataframe thead th {\n",
              "        text-align: right;\n",
              "    }\n",
              "</style>\n",
              "<table border=\"1\" class=\"dataframe\">\n",
              "  <thead>\n",
              "    <tr style=\"text-align: right;\">\n",
              "      <th>col_0</th>\n",
              "      <th>pacientes</th>\n",
              "    </tr>\n",
              "    <tr>\n",
              "      <th>tipopaciente</th>\n",
              "      <th></th>\n",
              "    </tr>\n",
              "  </thead>\n",
              "  <tbody>\n",
              "    <tr>\n",
              "      <th>M</th>\n",
              "      <td>394</td>\n",
              "    </tr>\n",
              "    <tr>\n",
              "      <th>PT</th>\n",
              "      <td>60</td>\n",
              "    </tr>\n",
              "    <tr>\n",
              "      <th>QP</th>\n",
              "      <td>726</td>\n",
              "    </tr>\n",
              "    <tr>\n",
              "      <th>QU</th>\n",
              "      <td>185</td>\n",
              "    </tr>\n",
              "  </tbody>\n",
              "</table>\n",
              "</div>"
            ],
            "text/plain": [
              "col_0         pacientes\n",
              "tipopaciente           \n",
              "M                   394\n",
              "PT                   60\n",
              "QP                  726\n",
              "QU                  185"
            ]
          },
          "metadata": {
            "tags": []
          },
          "execution_count": 12
        }
      ]
    },
    {
      "metadata": {
        "id": "wc4n8aDWNsuZ",
        "colab_type": "text"
      },
      "cell_type": "markdown",
      "source": [
        "Como ejemplo grafico mostramos la distribucion de la variable edad y la variable lactato"
      ]
    },
    {
      "metadata": {
        "id": "0cvlsWfANy0o",
        "colab_type": "code",
        "colab": {
          "base_uri": "https://localhost:8080/",
          "height": 349
        },
        "outputId": "ca51573a-aee5-4f63-ecd1-b77dbbe75467"
      },
      "cell_type": "code",
      "source": [
        "import matplotlib.pyplot as plt\n",
        "import numpy as np\n",
        "import pandas as pd\n",
        "plt.hist(df[\"edad\"], bins=40)\n",
        "plt.ylabel('Frecuencia')\n",
        "plt.show()"
      ],
      "execution_count": 13,
      "outputs": [
        {
          "output_type": "display_data",
          "data": {
            "image/png": "[encoded data removed]",
            "text/plain": [
              "<matplotlib.figure.Figure at 0x7f3eda9540b8>"
            ]
          },
          "metadata": {
            "tags": []
          }
        }
      ]
    },
    {
      "metadata": {
        "id": "VqhBq_mwZSwI",
        "colab_type": "code",
        "colab": {
          "base_uri": "https://localhost:8080/",
          "height": 347
        },
        "outputId": "0d3ab9a6-303f-4428-c441-3e224cd36af2"
      },
      "cell_type": "code",
      "source": [
        "plt.hist(df[\"lactato\"],bins=100)\n",
        "plt.ylabel('Frecuencia')\n",
        "plt.show()"
      ],
      "execution_count": 17,
      "outputs": [
        {
          "output_type": "display_data",
          "data": {
            "image/png": "[encoded data removed]",
            "text/plain": [
              "<matplotlib.figure.Figure at 0x7f3eda82df60>"
            ]
          },
          "metadata": {
            "tags": []
          }
        }
      ]
    }
  ]
}