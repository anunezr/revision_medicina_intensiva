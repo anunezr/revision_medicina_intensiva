{
  "nbformat": 4,
  "nbformat_minor": 0,
  "metadata": {
    "colab": {
      "name": "Selección de variables por SBS.ipynb",
      "version": "0.3.2",
      "provenance": [],
      "collapsed_sections": [],
      "toc_visible": true
    },
    "kernelspec": {
      "name": "python3",
      "display_name": "Python 3"
    }
  },
  "cells": [
    {
      "metadata": {
        "id": "y6MKwMIRBPoo",
        "colab_type": "text"
      },
      "cell_type": "markdown",
      "source": [
        "Implementamos el algoritmo SBS (sequential backward selection), usando un ejemplo del libro de Ratshka\n"
      ]
    },
    {
      "metadata": {
        "id": "7XttvLIqBMGj",
        "colab_type": "code",
        "colab": {}
      },
      "cell_type": "code",
      "source": [
        "from sklearn.base import clone\n",
        "from itertools import combinations\n",
        "import numpy as np\n",
        "from sklearn.metrics import accuracy_score\n",
        "from sklearn.model_selection import train_test_split\n",
        "\n",
        "\n",
        "#Creamos la clase que implementa el algoritmo\n",
        "\n",
        "class SBS():\n",
        "    def __init__(self, estimator, k_features, scoring=accuracy_score,\n",
        "                 test_size=0.3, random_state=None):\n",
        "        self.scoring = scoring\n",
        "        self.estimator = clone(estimator)\n",
        "        self.k_features = k_features\n",
        "        self.test_size = test_size\n",
        "        self.random_state = random_state\n",
        "\n",
        "    def fit(self, X, y):\n",
        "        \n",
        "        X_train, X_test, y_train, y_test = train_test_split(X, y, test_size=self.test_size,\n",
        "                             random_state=self.random_state)\n",
        "\n",
        "        dim = X_train.shape[1]\n",
        "        self.indices_ = tuple(range(dim))\n",
        "        self.subsets_ = [self.indices_]\n",
        "        score = self._calc_score(X_train, y_train, \n",
        "                                 X_test, y_test, self.indices_)\n",
        "        self.scores_ = [score]\n",
        "\n",
        "        while dim > self.k_features:\n",
        "            scores = []\n",
        "            subsets = []\n",
        "\n",
        "            for p in combinations(self.indices_, r=dim - 1):\n",
        "                score = self._calc_score(X_train, y_train, \n",
        "                                         X_test, y_test, p)\n",
        "                scores.append(score)\n",
        "                subsets.append(p)\n",
        "\n",
        "            best = np.argmax(scores)\n",
        "            self.indices_ = subsets[best]\n",
        "            self.subsets_.append(self.indices_)\n",
        "            dim -= 1\n",
        "\n",
        "            self.scores_.append(scores[best])\n",
        "        self.k_score_ = self.scores_[-1]\n",
        "\n",
        "        return self\n",
        "\n",
        "    def transform(self, X):\n",
        "        return X[:, self.indices_]\n",
        "\n",
        "    def _calc_score(self, X_train, y_train, X_test, y_test, indices):\n",
        "        self.estimator.fit(X_train[:, indices], y_train)\n",
        "        y_pred = self.estimator.predict(X_test[:, indices])\n",
        "        score = self.scoring(y_test, y_pred)\n",
        "        return score\n",
        "\n",
        "\n"
      ],
      "execution_count": 0,
      "outputs": []
    },
    {
      "metadata": {
        "id": "Zh00_4zyCjzE",
        "colab_type": "code",
        "colab": {
          "base_uri": "https://localhost:8080/",
          "height": 459
        },
        "outputId": "08ebdc97-92f9-4e74-de2e-7db9a65ef761"
      },
      "cell_type": "code",
      "source": [
        "#Cargamos los datos y transformamos el dataframe a OHE\n",
        "#Importamos los datos de un fichero csv\n",
        "import pandas as pd\n",
        "df = pd.read_csv('ejemploMI.csv')\n",
        "print(df.tail())\n",
        "\n",
        "#Ahora realizamos el one-hot-encoding\n",
        "df2=pd.get_dummies(df, drop_first=True)\n",
        "print(df2.tail())\n",
        "\n",
        "#Ahora guardamos el dataframe modificado en un fichero csv\n",
        "df2.to_csv('ejemploMI_OHE.csv')"
      ],
      "execution_count": 2,
      "outputs": [
        {
          "output_type": "stream",
          "text": [
            "      Unnamed: 0     X  exitus  apache2 tipopaciente sexopac  edad  sofa  \\\n",
            "1360        1364  1364       0       24           QU  Hombre    68     5   \n",
            "1361        1365  1365       0       18           QP  Hombre    55     5   \n",
            "1362        1366  1366       0       13           QP  Hombre    68     2   \n",
            "1363        1367  1367       0       10           QU  Hombre    33     1   \n",
            "1364        1368  1368       0        8           QP  Hombre    64     4   \n",
            "\n",
            "      lactato  \n",
            "1360      1.9  \n",
            "1361      1.5  \n",
            "1362      4.9  \n",
            "1363      1.1  \n",
            "1364      4.8  \n",
            "      Unnamed: 0     X  exitus  apache2  edad  sofa  lactato  tipopaciente_PT  \\\n",
            "1360        1364  1364       0       24    68     5      1.9                0   \n",
            "1361        1365  1365       0       18    55     5      1.5                0   \n",
            "1362        1366  1366       0       13    68     2      4.9                0   \n",
            "1363        1367  1367       0       10    33     1      1.1                0   \n",
            "1364        1368  1368       0        8    64     4      4.8                0   \n",
            "\n",
            "      tipopaciente_QP  tipopaciente_QU  sexopac_Mujer  \n",
            "1360                0                1              0  \n",
            "1361                1                0              0  \n",
            "1362                1                0              0  \n",
            "1363                0                1              0  \n",
            "1364                1                0              0  \n"
          ],
          "name": "stdout"
        }
      ]
    },
    {
      "metadata": {
        "id": "ZebYaIotB1T6",
        "colab_type": "code",
        "colab": {
          "base_uri": "https://localhost:8080/",
          "height": 707
        },
        "outputId": "4887b663-2031-48c6-937f-259dc881d814"
      },
      "cell_type": "code",
      "source": [
        "#Ahora vamos a usarlo con nuestros datos y la implementación que hemos hecho en SVM\n",
        "\n",
        "import matplotlib.pyplot as plt\n",
        "from sklearn.svm import SVC\n",
        "from sklearn.preprocessing import StandardScaler\n",
        "from sklearn.model_selection import train_test_split\n",
        "\n",
        "# Ahora añadimos variables al predictor\n",
        "\n",
        "lasX3 = df2.iloc[:,[3,4,5,6,7,8,9,10]]  \n",
        "laY3 = df2.iloc[:,2]\n",
        "\n",
        "\n",
        "lasX3_train,lasX3_test,laY3_train,laY3_test = \\\n",
        "      train_test_split(lasX3,laY3,test_size=0.3,random_state=None,stratify=df2['exitus'].values)\n",
        "\n",
        "sc = StandardScaler()\n",
        "sc.fit(lasX3_train)\n",
        "lasX3_train_std=sc.transform(lasX3_train)\n",
        "lasX3_test_std=sc.transform(lasX3_test)\n",
        "\n",
        "svm3 = SVC(kernel='rbf',C=1.0,random_state=None,gamma=0.1,probability=True)\n",
        "svm3.fit(lasX3_train_std,laY3_train)\n",
        "\n",
        "# selecting features\n",
        "sbs = SBS(svm3, k_features=1)\n",
        "sbs.fit(lasX3_train_std, laY3_train)\n",
        "\n",
        "# plotting performance of feature subsets\n",
        "k_feat = [len(k) for k in sbs.subsets_]\n",
        "\n",
        "plt.plot(k_feat, sbs.scores_, marker='o')\n",
        "plt.ylim([0.7, 1.02])\n",
        "plt.ylabel('Accuracy')\n",
        "plt.xlabel('Number of features')\n",
        "plt.grid()\n",
        "plt.tight_layout()\n",
        "# plt.savefig('images/04_08.png', dpi=300)\n",
        "plt.show()\n",
        "\n",
        "print(\"Mortalidad del grupo: \", 1-laY3.mean())\n",
        "\n",
        "k3=sbs.subsets_\n",
        "#print(len(sbs.subsets_))\n",
        "for i in range(0,len(k3)):\n",
        "    print('')\n",
        "    print(k3[i],\": \",sbs.scores_[i])\n",
        "    for j in k3[i]:\n",
        "        print(lasX3.columns[j],end=' ')\n"
      ],
      "execution_count": 124,
      "outputs": [
        {
          "output_type": "display_data",
          "data": {
            "image/png": "[encoded data removed]",
            "text/plain": [
              "<matplotlib.figure.Figure at 0x7f5d80c8d438>"
            ]
          },
          "metadata": {
            "tags": []
          }
        },
        {
          "output_type": "stream",
          "text": [
            "Mortalidad del grupo:  0.9362637362637363\n",
            "\n",
            "(0, 1, 2, 3, 4, 5, 6, 7) :  0.9442508710801394\n",
            "apache2 edad sofa lactato tipopaciente_PT tipopaciente_QP tipopaciente_QU sexopac_Mujer \n",
            "(0, 1, 2, 3, 4, 5, 6) :  0.9442508710801394\n",
            "apache2 edad sofa lactato tipopaciente_PT tipopaciente_QP tipopaciente_QU \n",
            "(0, 1, 2, 3, 4, 5) :  0.9442508710801394\n",
            "apache2 edad sofa lactato tipopaciente_PT tipopaciente_QP \n",
            "(0, 1, 2, 4, 5) :  0.9477351916376306\n",
            "apache2 edad sofa tipopaciente_PT tipopaciente_QP \n",
            "(0, 1, 2, 4) :  0.9512195121951219\n",
            "apache2 edad sofa tipopaciente_PT \n",
            "(0, 1, 2) :  0.9512195121951219\n",
            "apache2 edad sofa \n",
            "(0, 2) :  0.9477351916376306\n",
            "apache2 sofa \n",
            "(0,) :  0.9477351916376306\n",
            "apache2 "
          ],
          "name": "stdout"
        }
      ]
    },
    {
      "metadata": {
        "id": "oidc1WdiRxOo",
        "colab_type": "code",
        "colab": {
          "base_uri": "https://localhost:8080/",
          "height": 153
        },
        "outputId": "f6403e34-97f2-4e3a-809f-5b53261bd50e"
      },
      "cell_type": "code",
      "source": [
        "#Ahora usamos otro algoritmo de seleccion: RFE (recursive feature elimination)\n",
        "\n",
        "from sklearn.feature_selection import RFE\n",
        "svm4 = SVC(kernel=\"linear\", C=0.1) # con rbf no puede hacerse\n",
        "rfe = RFE(estimator=svm4, n_features_to_select=2, step=1)\n",
        "rfe.fit(lasX3_train_std, laY3_train)\n",
        "for j in range(0,len(lasX3.columns)):\n",
        "  print(lasX3.columns[j],rfe.ranking_[j])\n"
      ],
      "execution_count": 118,
      "outputs": [
        {
          "output_type": "stream",
          "text": [
            "apache2 1\n",
            "edad 4\n",
            "sofa 5\n",
            "lactato 1\n",
            "tipopaciente_PT 7\n",
            "tipopaciente_QP 3\n",
            "tipopaciente_QU 6\n",
            "sexopac_Mujer 2\n"
          ],
          "name": "stdout"
        }
      ]
    }
  ]
}