{
  "nbformat": 4,
  "nbformat_minor": 0,
  "metadata": {
    "colab": {
      "name": "Perceptron.ipynb",
      "version": "0.3.2",
      "provenance": [],
      "collapsed_sections": [],
      "toc_visible": true
    },
    "kernelspec": {
      "name": "python3",
      "display_name": "Python 3"
    }
  },
  "cells": [
    {
      "metadata": {
        "id": "JuYiWVXUcvzy",
        "colab_type": "text"
      },
      "cell_type": "markdown",
      "source": [
        "Entrenamos un perceptron para hacer prediccion de mortalidad"
      ]
    },
    {
      "metadata": {
        "id": "cIVB3VhQcaTL",
        "colab_type": "code",
        "colab": {
          "base_uri": "https://localhost:8080/",
          "height": 204
        },
        "outputId": "ee5c98b2-3b3e-4ee6-c515-4fd32ce3c359"
      },
      "cell_type": "code",
      "source": [
        "import pandas as pd\n",
        "df = pd.read_csv('ejemploMI.csv')\n",
        "df.tail()"
      ],
      "execution_count": 0,
      "outputs": [
        {
          "output_type": "execute_result",
          "data": {
            "text/html": [
              "<div>\n",
              "<style scoped>\n",
              "    .dataframe tbody tr th:only-of-type {\n",
              "        vertical-align: middle;\n",
              "    }\n",
              "\n",
              "    .dataframe tbody tr th {\n",
              "        vertical-align: top;\n",
              "    }\n",
              "\n",
              "    .dataframe thead th {\n",
              "        text-align: right;\n",
              "    }\n",
              "</style>\n",
              "<table border=\"1\" class=\"dataframe\">\n",
              "  <thead>\n",
              "    <tr style=\"text-align: right;\">\n",
              "      <th></th>\n",
              "      <th>Unnamed: 0</th>\n",
              "      <th>X</th>\n",
              "      <th>exitus</th>\n",
              "      <th>apache2</th>\n",
              "      <th>tipopaciente</th>\n",
              "      <th>sexopac</th>\n",
              "      <th>edad</th>\n",
              "      <th>sofa</th>\n",
              "      <th>lactato</th>\n",
              "    </tr>\n",
              "  </thead>\n",
              "  <tbody>\n",
              "    <tr>\n",
              "      <th>1360</th>\n",
              "      <td>1364</td>\n",
              "      <td>1364</td>\n",
              "      <td>0</td>\n",
              "      <td>24</td>\n",
              "      <td>QU</td>\n",
              "      <td>Hombre</td>\n",
              "      <td>68</td>\n",
              "      <td>5</td>\n",
              "      <td>1.9</td>\n",
              "    </tr>\n",
              "    <tr>\n",
              "      <th>1361</th>\n",
              "      <td>1365</td>\n",
              "      <td>1365</td>\n",
              "      <td>0</td>\n",
              "      <td>18</td>\n",
              "      <td>QP</td>\n",
              "      <td>Hombre</td>\n",
              "      <td>55</td>\n",
              "      <td>5</td>\n",
              "      <td>1.5</td>\n",
              "    </tr>\n",
              "    <tr>\n",
              "      <th>1362</th>\n",
              "      <td>1366</td>\n",
              "      <td>1366</td>\n",
              "      <td>0</td>\n",
              "      <td>13</td>\n",
              "      <td>QP</td>\n",
              "      <td>Hombre</td>\n",
              "      <td>68</td>\n",
              "      <td>2</td>\n",
              "      <td>4.9</td>\n",
              "    </tr>\n",
              "    <tr>\n",
              "      <th>1363</th>\n",
              "      <td>1367</td>\n",
              "      <td>1367</td>\n",
              "      <td>0</td>\n",
              "      <td>10</td>\n",
              "      <td>QU</td>\n",
              "      <td>Hombre</td>\n",
              "      <td>33</td>\n",
              "      <td>1</td>\n",
              "      <td>1.1</td>\n",
              "    </tr>\n",
              "    <tr>\n",
              "      <th>1364</th>\n",
              "      <td>1368</td>\n",
              "      <td>1368</td>\n",
              "      <td>0</td>\n",
              "      <td>8</td>\n",
              "      <td>QP</td>\n",
              "      <td>Hombre</td>\n",
              "      <td>64</td>\n",
              "      <td>4</td>\n",
              "      <td>4.8</td>\n",
              "    </tr>\n",
              "  </tbody>\n",
              "</table>\n",
              "</div>"
            ],
            "text/plain": [
              "      Unnamed: 0     X  exitus  apache2 tipopaciente sexopac  edad  sofa  \\\n",
              "1360        1364  1364       0       24           QU  Hombre    68     5   \n",
              "1361        1365  1365       0       18           QP  Hombre    55     5   \n",
              "1362        1366  1366       0       13           QP  Hombre    68     2   \n",
              "1363        1367  1367       0       10           QU  Hombre    33     1   \n",
              "1364        1368  1368       0        8           QP  Hombre    64     4   \n",
              "\n",
              "      lactato  \n",
              "1360      1.9  \n",
              "1361      1.5  \n",
              "1362      4.9  \n",
              "1363      1.1  \n",
              "1364      4.8  "
            ]
          },
          "metadata": {
            "tags": []
          },
          "execution_count": 2
        }
      ]
    },
    {
      "metadata": {
        "id": "VHIp2Npfc2md",
        "colab_type": "code",
        "colab": {}
      },
      "cell_type": "code",
      "source": [
        "import matplotlib.pyplot as plt\n",
        "import numpy as np               # primero un ejemplo sencillo con solo dos variables (apache y lactato)\n",
        "X = df.iloc[:,[2,3,8]].values    # la variable X tiene los valores de apache2 (columna 3), lactato (columna 8) y exitus (columna 2,variable resultado)\n",
        "\n",
        "X[:,0] = np.where(X[:,0]==1,-1,1)\n",
        "#print(X[X[:,0]==0])\n",
        "\n"
      ],
      "execution_count": 0,
      "outputs": []
    },
    {
      "metadata": {
        "id": "DC_Diovpfkzb",
        "colab_type": "code",
        "colab": {
          "base_uri": "https://localhost:8080/",
          "height": 361
        },
        "outputId": "b099d432-692a-4a9a-975d-d59372e31a42"
      },
      "cell_type": "code",
      "source": [
        "plt.scatter(X[X[:,0]==1,1],X[X[:,0]==1,2],color=\"red\",marker=\"o\",label=\"VIVOS\")\n",
        "plt.scatter(X[X[:,0]==-1,1],X[X[:,0]==-1,2],color=\"blue\",marker=\"x\",label=\"EXITUS\")\n",
        "plt.xlabel(\"Apache II\")\n",
        "plt.ylabel(\"Lactato\")\n",
        "plt.legend(loc=\"upper right\")\n",
        "plt.show()"
      ],
      "execution_count": 0,
      "outputs": [
        {
          "output_type": "display_data",
          "data": {
            "image/png": "[encoded data removed]",
            "text/plain": [
              "<matplotlib.figure.Figure at 0x7f8b80e07c88>"
            ]
          },
          "metadata": {
            "tags": []
          }
        }
      ]
    },
    {
      "metadata": {
        "id": "k9_Knwd0QJZe",
        "colab_type": "code",
        "colab": {
          "base_uri": "https://localhost:8080/",
          "height": 170
        },
        "outputId": "068172b9-d117-42f1-8359-625c947b7a25"
      },
      "cell_type": "code",
      "source": [
        "from sklearn.linear_model import Perceptron\n",
        "from sklearn.model_selection import train_test_split\n",
        "from sklearn.preprocessing import StandardScaler\n",
        "\n",
        "lasX = df.iloc[:,[3,8]]\n",
        "laY = df.iloc[:,2]\n",
        "laY = np.where(laY==1,-1,1)\n",
        "\n",
        "lasX_train,lasX_test,laY_train,laY_test = train_test_split(lasX,laY,test_size=0.3,random_state=1,stratify=y)\n",
        "\n",
        "print(\"Instancias de exitus:\" , np.bincount(laY+1))\n",
        "print(\"Intancias en train:\" , np.bincount(laY_train+1))\n",
        "print(\"Instancias en test:\" , np.bincount(laY_test+1))\n",
        "\n",
        "\n",
        "sc = StandardScaler()\n",
        "sc.fit(lasX_train)\n",
        "lasX_train_std=sc.transform(lasX_train)\n",
        "lasX_test_std=sc.transform(lasX_test)\n",
        "\n",
        "\n",
        "ppn = Perceptron(eta0=0.1,max_iter=40,tol=0.1,random_state=1)\n",
        "ppn.fit(lasX_train_std,laY_train)\n",
        "\n",
        "laY_pred = ppn.predict(X_test_std)\n",
        "print('Mal clasificados: %d' % (laY_test!=laY_pred).sum())\n",
        "print('Bien clasificados: %d' % (laY_test==laY_pred).sum())\n",
        "print('Exitus predicho: %d' % (-1==laY_pred).sum())\n",
        "print('Vivo predicho: %d' % (1==laY_pred).sum())\n",
        "\n",
        "\n",
        "print('Falsos exitus: %d' % ((laY_test==1)&(laY_pred==-1)).sum())\n",
        "print('Falsos vivos: %d' % ((laY_test==-1)&(laY_pred==1)).sum())\n",
        "\n"
      ],
      "execution_count": 68,
      "outputs": [
        {
          "output_type": "stream",
          "text": [
            "Instancias de exitus: [  87    0 1278]\n",
            "Intancias en train: [ 61   0 894]\n",
            "Instancias en test: [ 26   0 384]\n",
            "Mal clasificados: 35\n",
            "Bien clasificados: 375\n",
            "Exitus predicho: 27\n",
            "Vivo predicho: 383\n",
            "Falsos exitus: 18\n",
            "Falsos vivos: 17\n"
          ],
          "name": "stdout"
        }
      ]
    }
  ]
}